{
 "cells": [
  {
   "cell_type": "code",
   "execution_count": 133,
   "metadata": {},
   "outputs": [],
   "source": [
    "import numpy as np\n",
    "import pandas as pd\n",
    "import matplotlib.pyplot as plt\n",
    "import seaborn as sns\n",
    "from sklearn.linear_model import LogisticRegression\n",
    "from sklearn.preprocessing import StandardScaler\n",
    "from sklearn.metrics import accuracy_score\n",
    "from sklearn.model_selection import train_test_split"
   ]
  },
  {
   "cell_type": "code",
   "execution_count": 134,
   "metadata": {},
   "outputs": [
    {
     "data": {
      "text/html": [
       "<div>\n",
       "<style scoped>\n",
       "    .dataframe tbody tr th:only-of-type {\n",
       "        vertical-align: middle;\n",
       "    }\n",
       "\n",
       "    .dataframe tbody tr th {\n",
       "        vertical-align: top;\n",
       "    }\n",
       "\n",
       "    .dataframe thead th {\n",
       "        text-align: right;\n",
       "    }\n",
       "</style>\n",
       "<table border=\"1\" class=\"dataframe\">\n",
       "  <thead>\n",
       "    <tr style=\"text-align: right;\">\n",
       "      <th></th>\n",
       "      <th>Pregnancies</th>\n",
       "      <th>Glucose</th>\n",
       "      <th>BloodPressure</th>\n",
       "      <th>SkinThickness</th>\n",
       "      <th>Insulin</th>\n",
       "      <th>BMI</th>\n",
       "      <th>DiabetesPedigreeFunction</th>\n",
       "      <th>Age</th>\n",
       "      <th>Outcome</th>\n",
       "    </tr>\n",
       "  </thead>\n",
       "  <tbody>\n",
       "    <tr>\n",
       "      <th>0</th>\n",
       "      <td>6</td>\n",
       "      <td>148</td>\n",
       "      <td>72</td>\n",
       "      <td>35</td>\n",
       "      <td>0</td>\n",
       "      <td>33.6</td>\n",
       "      <td>0.627</td>\n",
       "      <td>50</td>\n",
       "      <td>1</td>\n",
       "    </tr>\n",
       "    <tr>\n",
       "      <th>1</th>\n",
       "      <td>1</td>\n",
       "      <td>85</td>\n",
       "      <td>66</td>\n",
       "      <td>29</td>\n",
       "      <td>0</td>\n",
       "      <td>26.6</td>\n",
       "      <td>0.351</td>\n",
       "      <td>31</td>\n",
       "      <td>0</td>\n",
       "    </tr>\n",
       "    <tr>\n",
       "      <th>2</th>\n",
       "      <td>8</td>\n",
       "      <td>183</td>\n",
       "      <td>64</td>\n",
       "      <td>0</td>\n",
       "      <td>0</td>\n",
       "      <td>23.3</td>\n",
       "      <td>0.672</td>\n",
       "      <td>32</td>\n",
       "      <td>1</td>\n",
       "    </tr>\n",
       "    <tr>\n",
       "      <th>3</th>\n",
       "      <td>1</td>\n",
       "      <td>89</td>\n",
       "      <td>66</td>\n",
       "      <td>23</td>\n",
       "      <td>94</td>\n",
       "      <td>28.1</td>\n",
       "      <td>0.167</td>\n",
       "      <td>21</td>\n",
       "      <td>0</td>\n",
       "    </tr>\n",
       "    <tr>\n",
       "      <th>4</th>\n",
       "      <td>0</td>\n",
       "      <td>137</td>\n",
       "      <td>40</td>\n",
       "      <td>35</td>\n",
       "      <td>168</td>\n",
       "      <td>43.1</td>\n",
       "      <td>2.288</td>\n",
       "      <td>33</td>\n",
       "      <td>1</td>\n",
       "    </tr>\n",
       "  </tbody>\n",
       "</table>\n",
       "</div>"
      ],
      "text/plain": [
       "   Pregnancies  Glucose  BloodPressure  SkinThickness  Insulin   BMI  \\\n",
       "0            6      148             72             35        0  33.6   \n",
       "1            1       85             66             29        0  26.6   \n",
       "2            8      183             64              0        0  23.3   \n",
       "3            1       89             66             23       94  28.1   \n",
       "4            0      137             40             35      168  43.1   \n",
       "\n",
       "   DiabetesPedigreeFunction  Age  Outcome  \n",
       "0                     0.627   50        1  \n",
       "1                     0.351   31        0  \n",
       "2                     0.672   32        1  \n",
       "3                     0.167   21        0  \n",
       "4                     2.288   33        1  "
      ]
     },
     "execution_count": 134,
     "metadata": {},
     "output_type": "execute_result"
    }
   ],
   "source": [
    "df = pd.read_csv(\"diabetes.csv\")\n",
    "df.head()"
   ]
  },
  {
   "cell_type": "code",
   "execution_count": 135,
   "metadata": {},
   "outputs": [
    {
     "data": {
      "text/plain": [
       "Pregnancies                 False\n",
       "Glucose                     False\n",
       "BloodPressure               False\n",
       "SkinThickness               False\n",
       "Insulin                     False\n",
       "BMI                         False\n",
       "DiabetesPedigreeFunction    False\n",
       "Age                         False\n",
       "Outcome                     False\n",
       "dtype: bool"
      ]
     },
     "execution_count": 135,
     "metadata": {},
     "output_type": "execute_result"
    }
   ],
   "source": [
    "df.isna().any()"
   ]
  },
  {
   "cell_type": "code",
   "execution_count": 136,
   "metadata": {},
   "outputs": [
    {
     "data": {
      "text/plain": [
       "Pregnancies                   int64\n",
       "Glucose                       int64\n",
       "BloodPressure                 int64\n",
       "SkinThickness                 int64\n",
       "Insulin                       int64\n",
       "BMI                         float64\n",
       "DiabetesPedigreeFunction    float64\n",
       "Age                           int64\n",
       "Outcome                       int64\n",
       "dtype: object"
      ]
     },
     "execution_count": 136,
     "metadata": {},
     "output_type": "execute_result"
    }
   ],
   "source": [
    "df.dtypes"
   ]
  },
  {
   "cell_type": "code",
   "execution_count": 137,
   "metadata": {},
   "outputs": [],
   "source": [
    "y = df.Outcome.values\n",
    "x = df.drop(['Outcome'], axis = 1)\n",
    "sc = StandardScaler()\n",
    "X = sc.fit_transform(x)\n",
    "x_train, x_test, y_train, y_test = train_test_split(X,y, test_size=0.25, random_state=4)"
   ]
  },
  {
   "cell_type": "code",
   "execution_count": 138,
   "metadata": {},
   "outputs": [
    {
     "data": {
      "text/plain": [
       "array([[ 0.63994726, -0.59134489,  0.66661825, ..., -0.15136112,\n",
       "        -0.88150107,  0.23476686],\n",
       "       [-0.25095213,  0.84832379, -0.16054575, ...,  0.0644016 ,\n",
       "        -0.65197205, -0.95646168],\n",
       "       [ 1.82781311,  0.12848945,  0.04624525, ..., -0.11328534,\n",
       "        -0.8059981 ,  0.66020563],\n",
       "       ...,\n",
       "       [ 0.63994726, -0.43485916,  0.97680475, ...,  0.61015436,\n",
       "         0.77050385, -0.19067191],\n",
       "       [-0.54791859, -1.43636781, -0.26394125, ..., -0.29097229,\n",
       "        -0.30767852, -0.0204964 ],\n",
       "       [-0.54791859, -0.43485916,  0.25303625, ...,  0.20401277,\n",
       "        -0.20499449, -0.87137393]])"
      ]
     },
     "execution_count": 138,
     "metadata": {},
     "output_type": "execute_result"
    }
   ],
   "source": [
    "x_train"
   ]
  },
  {
   "cell_type": "code",
   "execution_count": 139,
   "metadata": {},
   "outputs": [],
   "source": [
    "def weightInitialization(n_features):\n",
    "    w = np.zeros((1,n_features))\n",
    "    b = 0\n",
    "    return w,b"
   ]
  },
  {
   "cell_type": "code",
   "execution_count": 140,
   "metadata": {},
   "outputs": [],
   "source": [
    "def sigmoid_activation(result):\n",
    "    final_result = 1/(1+np.exp(-result))\n",
    "    return final_result"
   ]
  },
  {
   "cell_type": "code",
   "execution_count": 141,
   "metadata": {},
   "outputs": [],
   "source": [
    "def predict(final_pred, m):\n",
    "    y_pred = np.zeros((1,m))\n",
    "    for i in range(final_pred.shape[1]):\n",
    "        if final_pred[0][i] > 0.5:\n",
    "            y_pred[0][i] = 1\n",
    "    return y_pred"
   ]
  },
  {
   "cell_type": "code",
   "execution_count": 142,
   "metadata": {},
   "outputs": [],
   "source": [
    "lam = 0.0001\n",
    "def Optimization(w, b, X, Y):\n",
    "    m = X.shape[0]\n",
    "    \n",
    "    final_result = sigmoid_activation(np.dot(w,X.T)+b)\n",
    "    Y_T = Y.T\n",
    "    cost = (-1/m)*(np.sum((Y_T*np.log(final_result)) + ((1-Y_T)*(np.log(1-final_result)))))  + (lam * (np.sum(w)))\n",
    "    for weights in w:\n",
    "          if np.where(weights > 0):\n",
    "              dw = (1/m)*(np.dot(X.T, (final_result-Y.T).T)) + lam\n",
    "              db = (1/m)*(np.sum(final_result-Y.T)) + lam\n",
    "          if np.where(weights < 0):\n",
    "              dw = (1/m)*(np.dot(X.T, (final_result-Y.T).T)) - lam\n",
    "              db = (1/m)*(np.sum(final_result-Y.T)) - lam\n",
    "\n",
    "    grads = {\"dw\": dw, \"db\": db}\n",
    "    return grads, cost\n",
    "def Update(w, b, X, Y, learning_rate, no_iterations):\n",
    "    costs = []\n",
    "    for i in range(no_iterations):\n",
    "        grads, cost = Optimization(w,b,X,Y)\n",
    "        dw = grads[\"dw\"]\n",
    "        db = grads[\"db\"]\n",
    "        w = w - (learning_rate * (dw.T))\n",
    "        b = b - (learning_rate * db)\n",
    "        if (i % 100 == 0):\n",
    "            costs.append(cost)\n",
    "    coeff = {\"w\": w, \"b\": b}\n",
    "    gradient = {\"dw\": dw, \"db\": db}\n",
    "   \n",
    "    return coeff, gradient, costs"
   ]
  },
  {
   "cell_type": "code",
   "execution_count": 143,
   "metadata": {},
   "outputs": [
    {
     "name": "stdout",
     "output_type": "stream",
     "text": [
      "Optimized weights [[ 0.45687724  0.9624439  -0.28319579 -0.02620796 -0.05436341  0.70851026\n",
      "   0.34794633  0.24097189]]\n",
      "Optimized intercept -0.8178909946636285\n",
      "Test Accuracy 80.20833333333334 %\n"
     ]
    },
    {
     "data": {
      "image/png": "[encoded data removed]",
      "text/plain": [
       "<Figure size 432x288 with 1 Axes>"
      ]
     },
     "metadata": {
      "needs_background": "light"
     },
     "output_type": "display_data"
    }
   ],
   "source": [
    "n_features = x_train.shape[1]\n",
    "w, b = weightInitialization(n_features)\n",
    "coeff, gradients, costs = Update(w, b, x_train, y_train,learning_rate=0.001,no_iterations=45000)\n",
    "w1 = coeff[\"w\"]\n",
    "b1 = coeff[\"b\"]\n",
    "print('Optimized weights', w1)\n",
    "print('Optimized intercept',b1)\n",
    "\n",
    "final_test_pred = sigmoid_activation(np.dot(w1,x_test.T)+b1)\n",
    "x_ts =  x_test.shape[0]\n",
    "y_pred = predict(final_test_pred, x_ts)\n",
    "print('Test Accuracy',accuracy_score(y_pred.T, y_test)*100,'%')\n",
    "plt.plot(costs)\n",
    "plt.ylabel('cost')\n",
    "plt.xlabel('no.of iterations')\n",
    "plt.title('Cost reduction over iterations  using L1 Regularisation')\n",
    "plt.show()\n",
    "    \n",
    "    \n",
    " "
   ]
  },
  {
   "cell_type": "code",
   "execution_count": 144,
   "metadata": {},
   "outputs": [
    {
     "name": "stdout",
     "output_type": "stream",
     "text": [
      "[[0.03348371 0.8259314  0.40180446 0.19532161 0.         0.19811192\n",
      "  0.00349905 0.27903088]]\n",
      "[[1.]]\n",
      "You have Diabetes\n"
     ]
    }
   ],
   "source": [
    "\n",
    "Pregnancies = int(input(\"Enter the no.of pregnencies\"))\n",
    "Glucose = int(input(\"Enter the glucose level\"))\n",
    "BloodPressure = int(input(\"Enter the Blood Pressure\"))\n",
    "ST = int(input(\"Enter skin thickness\"))\n",
    "Insulin = int(input(\"Enter the Insulin level\"))\n",
    "BMI = float(input(\"Enter BMI\"))\n",
    "DPF = float(input(\"Enter the value of DiabetesPedigreeFunction\"))\n",
    "Age = int(input(\"Enter age\"))\n",
    "\n",
    "\n",
    "\n",
    "custom = np.array([[Pregnancies,Glucose,BloodPressure,ST,Insulin,BMI,DPF,Age]])\n",
    "from sklearn import preprocessing\n",
    "custom_data = preprocessing.normalize(custom)\n",
    "Sigmoid = sigmoid_activation(np.dot(w1,custom_data.T)+b1)\n",
    "x_ts =  custom_data.shape[0]\n",
    "Prediction = predict(Sigmoid, x_ts)\n",
    "if(Prediction == 1):\n",
    "    print(\"You have Diabetes\")\n",
    "else:\n",
    "    print(\"You don't have Diabetes\")\n",
    "\n",
    "\n",
    " "
   ]
  }
 ],
 "metadata": {
  "interpreter": {
   "hash": "a10e709ed8c42bf465800b9324b436624cf2295798805977a885c778660039d3"
  },
  "kernelspec": {
   "display_name": "Python 3.9.8 64-bit",
   "language": "python",
   "name": "python3"
  },
  "language_info": {
   "codemirror_mode": {
    "name": "ipython",
    "version": 3
   },
   "file_extension": ".py",
   "mimetype": "text/x-python",
   "name": "python",
   "nbconvert_exporter": "python",
   "pygments_lexer": "ipython3",
   "version": "3.9.8"
  },
  "orig_nbformat": 4
 },
 "nbformat": 4,
 "nbformat_minor": 2
}
